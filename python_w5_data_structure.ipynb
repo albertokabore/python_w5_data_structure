{
 "cells": [
  {
   "cell_type": "markdown",
   "id": "ced0133d-8f7d-4ed9-bc0e-9e2d20fe6254",
   "metadata": {},
   "source": [
    "List"
   ]
  },
  {
   "cell_type": "markdown",
   "id": "2334cebe-eee3-4015-9ebd-6142ec12e567",
   "metadata": {},
   "source": [
    "Question - Appending and Removing Elements: Create an empty list called my_list. Append\n",
    " the numbers 1, 2, and 3 to my_list. Then remove the number 2 from the list."
   ]
  },
  {
   "cell_type": "code",
   "execution_count": 2,
   "id": "5ca4cf67",
   "metadata": {},
   "outputs": [
    {
     "name": "stdout",
     "output_type": "stream",
     "text": [
      "Updated list: [1, 3]\n"
     ]
    }
   ],
   "source": [
    "# Create an empty list\n",
    "my_list = []\n",
    "\n",
    "# Append numbers 1, 2, and 3\n",
    "my_list.append(1)\n",
    "my_list.append(2)\n",
    "my_list.append(3)\n",
    "\n",
    "# Remove the number 2\n",
    "my_list.remove(2)\n",
    "\n",
    "print(\"Updated list:\", my_list)"
   ]
  },
  {
   "cell_type": "markdown",
   "id": "9401deb9-6afb-4616-bed3-18507392f05a",
   "metadata": {},
   "source": [
    " Question- Accessing Elements: Create a list called fruits containing the strings \"apple\",\n",
    " \"banana\", \"cherry\", \"date\". Print the second element of the list"
   ]
  },
  {
   "cell_type": "code",
   "execution_count": 3,
   "id": "1baff8bd",
   "metadata": {},
   "outputs": [
    {
     "name": "stdout",
     "output_type": "stream",
     "text": [
      "Second fruit: banana\n"
     ]
    }
   ],
   "source": [
    "# Create a list of fruits\n",
    "fruits = [\"apple\", \"banana\", \"cherry\", \"date\"]\n",
    "\n",
    "# Print the second element\n",
    "print(\"Second fruit:\", fruits[1])"
   ]
  },
  {
   "cell_type": "markdown",
   "id": "a0a64166-fe16-4557-9b4c-74f1c752ed50",
   "metadata": {},
   "source": [
    " Question- Slicing: Create a list called numbers containing the numbers from 1 to 10. Print a\n",
    " slice of the list containing elements from the third element to the sixth element"
   ]
  },
  {
   "cell_type": "code",
   "execution_count": 4,
   "id": "50a72706-0dd7-4222-87dc-15ae6ea9c950",
   "metadata": {},
   "outputs": [
    {
     "name": "stdout",
     "output_type": "stream",
     "text": [
      "Sliced list: [3, 4, 5, 6]\n"
     ]
    }
   ],
   "source": [
    "# Create a list of numbers from 1 to 10\n",
    "numbers = list(range(1, 11))\n",
    "\n",
    "# Print a slice from the third to the sixth element\n",
    "print(\"Sliced list:\", numbers[2:6])"
   ]
  },
  {
   "cell_type": "markdown",
   "id": "cf75cb87-95c8-4da3-a2ac-92ce9b12e172",
   "metadata": {},
   "source": [
    "Sets\n",
    " Question - Adding and Removing Elements: Create an empty set called my_set. Add the\n",
    " numbers 1, 2, and 3 to my_set. Then remove the number 2 from the set"
   ]
  },
  {
   "cell_type": "code",
   "execution_count": 10,
   "id": "bfb192da-41a7-459b-8f27-a431fd744b41",
   "metadata": {},
   "outputs": [
    {
     "name": "stdout",
     "output_type": "stream",
     "text": [
      "Updated set: {1, 3}\n"
     ]
    }
   ],
   "source": [
    "\n",
    "# Create an empty set\n",
    "my_set = set()\n",
    "\n",
    "# Add numbers 1, 2, and 3\n",
    "my_set.add(1)\n",
    "my_set.add(2)\n",
    "my_set.add(3)\n",
    "\n",
    "# Remove the number 2\n",
    "my_set.remove(2)\n",
    "\n",
    "print(\"Updated set:\", my_set)\n"
   ]
  },
  {
   "cell_type": "markdown",
   "id": "556e9972-6f06-42ea-9fb9-e85f6389e630",
   "metadata": {},
   "source": [
    " Question - Operations: Create two sets called set1 and set2, each containing a few\n",
    " numbers. Print the union, intersection, and difference of the two sets"
   ]
  },
  {
   "cell_type": "code",
   "execution_count": 15,
   "id": "bc9cac9e-ad78-4e49-af03-025c2580d2fd",
   "metadata": {},
   "outputs": [
    {
     "name": "stdout",
     "output_type": "stream",
     "text": [
      "Union: {1, 2, 3, 4, 5, 6}\n",
      "Intersection: {3, 4}\n",
      "Difference (set1 - set2): {1, 2}\n"
     ]
    }
   ],
   "source": [
    "# Create two sets\n",
    "set1 = {1, 2, 3, 4}\n",
    "set2 = {3, 4, 5, 6}\n",
    "\n",
    "# Print union, intersection, and difference\n",
    "print(\"Union:\", set1 | set2)\n",
    "print(\"Intersection:\", set1 & set2)\n",
    "print(\"Difference (set1 - set2):\", set1 - set2)"
   ]
  },
  {
   "cell_type": "markdown",
   "id": "8477523c-50b1-4e9a-969f-042248c45180",
   "metadata": {},
   "source": [
    " Tuples\n",
    " Question - Accessing Elements: Create a tuple called coordinates containing the latitude\n",
    " and longitude of a location (e.g., (40.7128, -74.0060) for New York City). Print the latitude\n",
    " and longitude separately"
   ]
  },
  {
   "cell_type": "code",
   "execution_count": 16,
   "id": "d12b7fc1-6c7e-4212-b256-f73396626cc6",
   "metadata": {},
   "outputs": [
    {
     "name": "stdout",
     "output_type": "stream",
     "text": [
      "Latitude: 40.7128\n",
      "Longitude: -74.006\n"
     ]
    }
   ],
   "source": [
    "# Create a tuple of coordinates\n",
    "coordinates = (40.7128, -74.0060)\n",
    "\n",
    "# Print latitude and longitude separately\n",
    "print(\"Latitude:\", coordinates[0])\n",
    "print(\"Longitude:\", coordinates[1])"
   ]
  },
  {
   "cell_type": "markdown",
   "id": "c734d312-7eee-4249-9970-8f872bc7bf00",
   "metadata": {},
   "source": [
    " Question - Packing and Unpacking: Create a tuple called person containing information\n",
    " about a person, such as their name, age, and city. Then unpack the tuple into individual\n",
    " variables."
   ]
  },
  {
   "cell_type": "code",
   "execution_count": 17,
   "id": "21d9c49d-a92d-4b9c-ac71-0e0270ca466f",
   "metadata": {},
   "outputs": [
    {
     "name": "stdout",
     "output_type": "stream",
     "text": [
      "Name: John Doe\n",
      "Age: 30\n",
      "City: New York\n"
     ]
    }
   ],
   "source": [
    "# Create a tuple with person details\n",
    "person = (\"John Doe\", 30, \"New York\")\n",
    "\n",
    "# Unpack the tuple into variables\n",
    "name, age, city = person\n",
    "\n",
    "print(\"Name:\", name)\n",
    "print(\"Age:\", age)\n",
    "print(\"City:\", city)"
   ]
  },
  {
   "cell_type": "code",
   "execution_count": null,
   "id": "af9d1e5c-fc22-4dae-99fd-74650cf7340f",
   "metadata": {},
   "outputs": [],
   "source": []
  }
 ],
 "metadata": {
  "kernelspec": {
   "display_name": ".venv",
   "language": "python",
   "name": "python3"
  },
  "language_info": {
   "codemirror_mode": {
    "name": "ipython",
    "version": 3
   },
   "file_extension": ".py",
   "mimetype": "text/x-python",
   "name": "python",
   "nbconvert_exporter": "python",
   "pygments_lexer": "ipython3",
   "version": "3.13.0"
  }
 },
 "nbformat": 4,
 "nbformat_minor": 5
}
